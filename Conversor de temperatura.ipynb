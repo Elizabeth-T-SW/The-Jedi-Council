{
 "cells": [
  {
   "cell_type": "code",
   "execution_count": 1,
   "metadata": {},
   "outputs": [
    {
     "name": "stdout",
     "output_type": "stream",
     "text": [
      "54 grados C son 123 grados F\n"
     ]
    }
   ],
   "source": [
    "temperatura_ingresada = int(input(\"Ingresá una temperatura: \"))\n",
    "sistema = input(\"Ingresá F para Farenheit o C para Centígrados: \").upper()\n",
    "\n",
    "if sistema == \"F\":\n",
    "    print(temperatura_ingresada,\"grados F son\",(temperatura_ingresada - 15) / 2, \"grados C\")\n",
    "elif sistema == \"C\":\n",
    "    print(temperatura_ingresada,\"grados C son\",temperatura_ingresada * 2 + 15, \"grados F\")"
   ]
  }
 ],
 "metadata": {
  "kernelspec": {
   "display_name": "Python 3.10.6 64-bit",
   "language": "python",
   "name": "python3"
  },
  "language_info": {
   "codemirror_mode": {
    "name": "ipython",
    "version": 3
   },
   "file_extension": ".py",
   "mimetype": "text/x-python",
   "name": "python",
   "nbconvert_exporter": "python",
   "pygments_lexer": "ipython3",
   "version": "3.10.6"
  },
  "orig_nbformat": 4,
  "vscode": {
   "interpreter": {
    "hash": "af1f3367368602e82c2e8d5c237a4726c665a1d3516be08ef461f9bb7e5dcfb2"
   }
  }
 },
 "nbformat": 4,
 "nbformat_minor": 2
}
