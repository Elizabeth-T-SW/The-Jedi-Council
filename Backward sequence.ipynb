{
 "cells": [
  {
   "cell_type": "code",
   "execution_count": 1,
   "metadata": {},
   "outputs": [
    {
     "name": "stdout",
     "output_type": "stream",
     "text": [
      "These are the numbers from 25 to 0:\n",
      "25, 24, 23, 22, 21, 20, 19, 18, 17, 16, 15, 14, 13, 12, 11, 10, 9, 8, 7, 6, 5, 4, 3, 2, 1, 0, "
     ]
    }
   ],
   "source": [
    "# THE USER ENTERS A NUMBER, AND THEY SEE THE SEQUENCE FROM THE NUMBER GIVEN TO 0\n",
    "\n",
    "number_given = int(input(\"Enter a possitive, integer number: \"))\n",
    "print(\"These are the numbers from\",number_given,\"to 0:\")\n",
    "for i in range(number_given, -1, -1):\n",
    "    print(i, end= \", \")\n",
    "\n",
    "\n",
    "\n"
   ]
  }
 ],
 "metadata": {
  "kernelspec": {
   "display_name": "Python 3.10.6 64-bit",
   "language": "python",
   "name": "python3"
  },
  "language_info": {
   "codemirror_mode": {
    "name": "ipython",
    "version": 3
   },
   "file_extension": ".py",
   "mimetype": "text/x-python",
   "name": "python",
   "nbconvert_exporter": "python",
   "pygments_lexer": "ipython3",
   "version": "3.10.6"
  },
  "orig_nbformat": 4,
  "vscode": {
   "interpreter": {
    "hash": "af1f3367368602e82c2e8d5c237a4726c665a1d3516be08ef461f9bb7e5dcfb2"
   }
  }
 },
 "nbformat": 4,
 "nbformat_minor": 2
}
