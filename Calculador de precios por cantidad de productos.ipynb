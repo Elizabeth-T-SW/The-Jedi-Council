{
 "cells": [
  {
   "cell_type": "code",
   "execution_count": 7,
   "metadata": {},
   "outputs": [
    {
     "name": "stdout",
     "output_type": "stream",
     "text": [
      "El total a pagar es de $ 3600\n"
     ]
    }
   ],
   "source": [
    "# CON ESTE PROGRAMA EL USUARIO ELIGE UN PRODUCTO Y UNA CANTIDAD Y LE DEVUELVE EL PRECIO TOTAL A PAGAR\n",
    "# SI EL PRODUCTO NO ESTÁ DISPONIBLE, EL SISTEMA LE AVISA\n",
    "\n",
    "producto_y_precio = {\n",
    "    \"Mouse\":350,\n",
    "    \"Monitor\":1200,\n",
    "    \"Micrófono\":450,\n",
    "    \"Teclado\":380\n",
    "}\n",
    "producto_pedido = input(\"¿Qué producto desea comprar? \").title()\n",
    "cantidad = int(input(\"¿Qué cantidad desea comprar? \"))\n",
    "\n",
    "if producto_pedido in producto_y_precio:\n",
    "    print(\"El total a pagar es de $\",producto_y_precio.get(producto_pedido) * cantidad)\n",
    "else:\n",
    "    print(\"Ese producto no está en existencia por el momento.\")"
   ]
  }
 ],
 "metadata": {
  "kernelspec": {
   "display_name": "Python 3.10.6 64-bit",
   "language": "python",
   "name": "python3"
  },
  "language_info": {
   "codemirror_mode": {
    "name": "ipython",
    "version": 3
   },
   "file_extension": ".py",
   "mimetype": "text/x-python",
   "name": "python",
   "nbconvert_exporter": "python",
   "pygments_lexer": "ipython3",
   "version": "3.10.6"
  },
  "orig_nbformat": 4,
  "vscode": {
   "interpreter": {
    "hash": "af1f3367368602e82c2e8d5c237a4726c665a1d3516be08ef461f9bb7e5dcfb2"
   }
  }
 },
 "nbformat": 4,
 "nbformat_minor": 2
}
